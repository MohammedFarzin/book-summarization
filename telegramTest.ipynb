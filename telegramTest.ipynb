{
 "cells": [
  {
   "cell_type": "code",
   "execution_count": 18,
   "metadata": {},
   "outputs": [
    {
     "name": "stdout",
     "output_type": "stream",
     "text": [
      "Status Code: 200\n",
      "Response JSON:\n",
      "{'telegram_response': {'ok': True, 'result': {'message_id': 37, 'sender_chat': {'id': -1002177083700, 'title': 'Book Bites', 'type': 'channel'}, 'chat': {'id': -1002177083700, 'title': 'Book Bites', 'type': 'channel'}, 'date': 1724023563, 'text': '\"Skin in the Game by Nassem Taleb\"\\n\\nOverview\\n\\nIn \"Skin in the Game,\" Nassem Taleb discusses the concept of having something to lose in any transaction or decision-making process. He argues that having skin in the game aligns the interests of all parties involved and leads to better outcomes. The book covers various topics, including politics, economics, and philosophy, and provides many examples from history and daily life.\\n\\nPrincipal Insights\\n\\n1. Having skin in the game is necessary for fairness and good decision-making.\\n2. Risk-taking should be proportional to the benefits received.\\n3. Complex systems are difficult to predict, and those who claim to have the answers often don\\'t.\\n4. Asymmetry of information and power leads to unethical behavior.\\n5. Over-diversification can lead to missing out on significant opportunities.\\n6. It\\'s essential to distinguish between those who give advice and those who take action.\\n7. Trial and error is a crucial part of the decision-making process.\\n\\nApplication in Practical Life\\n\\n- Consider the risks and benefits of any decision before making it.\\n- Seek to align the interests of all parties involved.\\n- Don\\'t blindly trust those who claim to have all the answers.\\n- Avoid over-diversification and seek to focus on what you know best.\\n- Distinguish between those who give advice and those who take action.\\n- Learn from your mistakes and use trial and error to make better decisions.\\n\\nRelated Readings\\n\\n- \"Antifragile\" and \"The Black Swan\" by Nassem Taleb and brief description\\n- \"Thinking, Fast and Slow\" by Daniel Kahneman and brief description\\n- \"The Art of Strategy\" by Avinash K. Dixit and Barry J. Nalebuff and brief description\\n- \"The Signal and the Noise\" by Nate Silver and brief description\\n\\nFinal Thoughts\\n\\n\"Skin in the Game\" is a thought-provoking and insightful book that challenges conventional wisdom and encourages readers to think critically about decision-making and risk-taking. By emphasizing the importance of having skin in the game, Taleb provides a framework for making better decisions and avoiding unethical behavior. This book is a must-read for anyone interested in economics, politics, or philosophy.', 'entities': [{'offset': 1, 'length': 16, 'type': 'bold'}, {'offset': 36, 'length': 8, 'type': 'bold'}, {'offset': 429, 'length': 18, 'type': 'bold'}, {'offset': 995, 'length': 29, 'type': 'bold'}, {'offset': 1431, 'length': 16, 'type': 'bold'}, {'offset': 1452, 'length': 11, 'type': 'bold'}, {'offset': 1470, 'length': 14, 'type': 'bold'}, {'offset': 1527, 'length': 23, 'type': 'bold'}, {'offset': 1596, 'length': 19, 'type': 'bold'}, {'offset': 1684, 'length': 24, 'type': 'bold'}, {'offset': 1748, 'length': 14, 'type': 'bold'}, {'offset': 1764, 'length': 411, 'type': 'italic'}]}}}\n"
     ]
    }
   ],
   "source": [
    "import requests\n",
    "\n",
    "# Define the URL of the FastAPI endpoint\n",
    "url = \"https://book-summarization-telegram.onrender.com/generate_summary/\"\n",
    "\n",
    "# Define the payload to be sent in the POST request\n",
    "book_name = input(\"Enter book name followed by author (e.g., 'Sapiens by Yuval Noah Harari'): \")\n",
    "payload = {\n",
    "    \"book_name\": book_name\n",
    "}\n",
    "\n",
    "# Set the headers (if required)\n",
    "headers = {\n",
    "    \"Content-Type\": \"application/json\"\n",
    "}\n",
    "\n",
    "# Send the POST request\n",
    "response = requests.post(url, json=payload, headers=headers)\n",
    "\n",
    "# Print the response status code and JSON response\n",
    "print(f\"Status Code: {response.status_code}\")\n",
    "print(\"Response JSON:\")\n",
    "print(response.json())"
   ]
  },
  {
   "cell_type": "code",
   "execution_count": 19,
   "metadata": {},
   "outputs": [
    {
     "data": {
      "text/plain": [
       "{'book_name': 'Skin the game by Nassem Taleb'}"
      ]
     },
     "execution_count": 19,
     "metadata": {},
     "output_type": "execute_result"
    }
   ],
   "source": [
    "payload"
   ]
  },
  {
   "cell_type": "code",
   "execution_count": 15,
   "metadata": {},
   "outputs": [
    {
     "data": {
      "text/plain": [
       "{'book_name': 'Skin in the Game by Nassem Taleb'}"
      ]
     },
     "execution_count": 15,
     "metadata": {},
     "output_type": "execute_result"
    }
   ],
   "source": [
    "payload"
   ]
  }
 ],
 "metadata": {
  "kernelspec": {
   "display_name": "Python 3",
   "language": "python",
   "name": "python3"
  },
  "language_info": {
   "codemirror_mode": {
    "name": "ipython",
    "version": 3
   },
   "file_extension": ".py",
   "mimetype": "text/x-python",
   "name": "python",
   "nbconvert_exporter": "python",
   "pygments_lexer": "ipython3",
   "version": "3.11.2"
  }
 },
 "nbformat": 4,
 "nbformat_minor": 2
}
