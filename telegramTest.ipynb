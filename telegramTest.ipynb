{
 "cells": [
  {
   "cell_type": "code",
   "execution_count": 1,
   "metadata": {},
   "outputs": [
    {
     "name": "stdout",
     "output_type": "stream",
     "text": [
      "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\n"
     ]
    }
   ],
   "source": [
    "# Schedule Library imported\n",
    "import requests\n",
    "import schedule\n",
    "import time\n",
    "from dotenv import load_dotenv\n",
    "import os\n",
    "from groq import Groq\n",
    "\n",
    "load_dotenv()\n",
    "\n",
    "GROQ_API_KEY = os.getenv(\"GROQ_API_KEY\")\n",
    "TOKEN = os.getenv('TELEGRAM_BOT_TOKEN')\n",
    "CHANNEL_ID = os.getenv('TELEGRAM_CHANNEL_ID')\n",
    "print(GROQ_API_KEY)\n",
    "\n",
    "client = Groq(api_key=GROQ_API_KEY)\n",
    "\n",
    "book_names = [\"Magic of Thinking Big\", \"Atomic Habits\", \"Think and Grow Rich\", \"The Secret\", \"The Psychology of Money\", \"Ikigai\"]\n",
    "authors = [\"David Schwartz\", \"James Clear\", \"Napoleon Hill\", \"Rhonda Byrne\", \"Morgan Housel\", \"Héctor García and Francesc Miralles\"]\n",
    "summary_generated = []\n",
    "\n",
    "\n",
    "def chat_template_creation(book_names, authors):\n",
    "    chat_template = []\n",
    "\n",
    "    \n",
    "    books_with_authors = dict(zip(book_names, authors))\n",
    "    print(books_with_authors)\n",
    "\n",
    "    for book_name, author in books_with_authors.items():\n",
    "        messages=[\n",
    "            {\n",
    "                \"role\": \"system\",\n",
    "                \"content\": f\"\"\"\n",
    "                        Generate a summary of the book {book_name} by {author} with the following format:\n",
    "                                    *Book Name* by *Author Name*\n",
    "\n",
    "                                    *Overview*\n",
    "                                    Provide a brief overview of the book's content and main themes.\n",
    "\n",
    "                                    *Principal Insights*\n",
    "                                    1. Key Insight 1\n",
    "                                    2. Key Insight 2\n",
    "                                    3. Key Insight 3\n",
    "                                    4. Key Insight 4\n",
    "                                    5. Key Insight 5\n",
    "                                    6. Key Insight 6\n",
    "                                    7. Key Insight 7\n",
    "\n",
    "                                    *Application in Practical Life*\n",
    "                                    - Application Point 1\n",
    "                                    - Application Point 2\n",
    "                                    - Application Point 3\n",
    "                                    - Application Point 4\n",
    "                                    - Application Point 5\n",
    "\n",
    "                                    *Related Readings*\n",
    "                                    - _Related Book 1_ and brief description\n",
    "                                    - _Related Book 2_ and brief description\n",
    "                                    - _Related Book 3_ and brief description\n",
    "                                    - _Related Book 4_ and brief description\n",
    "\n",
    "                                    *Final Thoughts*\n",
    "                                    _Provide concluding thoughts on the book._\n",
    "\n",
    "                                    Include the formatting symbols as specified in the format. Ensure the final thoughts content starts and ends with a underscore symbol. Enusre to use a single asterisk (*) for highlighting the subheadings and other keywords instead of ##. Give the summary with specified format as a python string\n",
    "                                    Don't use double asterisks, use only single asterisks for highlighting the text\n",
    "                                    \n",
    "                                    \"\"\"\n",
    "            },\n",
    "            {\n",
    "                \"role\":\"user\",\n",
    "                \"content\": f\"Generate a summary of the book The {book_name} by {author}.\"\n",
    "            }\n",
    "        ]\n",
    "\n",
    "        chat_template.append(messages)\n",
    "\n",
    "        break #For testing (1 Book only)\n",
    "\n",
    "    return chat_template\n",
    "    \n",
    "def summary_generation(message):\n",
    "    print(\"summary_generation:\", message[0].get(\"content\"))\n",
    "    chat_completion = client.chat.completions.create(\n",
    "    model=\"mixtral-8x7b-32768\",\n",
    "    messages=message,\n",
    "    temperature=0.5,\n",
    "    max_tokens=1024\n",
    "    )\n",
    "    print(chat_completion.choices[0].message.content)\n",
    "\n",
    "    return chat_completion.choices[0].message.content\n",
    "\n",
    "    \n",
    "\n",
    "\n",
    "def wrapper_function(message):\n",
    "    print(\"wrapper_function\", message[0].get(\"content\"))\n",
    "    summary = summary_generation(message)\n",
    "    summary_generated.append(summary)\n",
    "\n",
    "\n",
    "\n",
    "\n",
    "def send_message(token, channel_id, message, parse_mode='Markdown'):\n",
    "    url = f'https://api.telegram.org/bot{token}/sendMessage'\n",
    "    payload = {\n",
    "        'chat_id': channel_id,\n",
    "        'text': message,\n",
    "        'parse_mode': parse_mode\n",
    "    }\n",
    "    response = requests.post(url, data=payload)\n",
    "    return response.json()"
   ]
  },
  {
   "cell_type": "code",
   "execution_count": 2,
   "metadata": {},
   "outputs": [
    {
     "name": "stdout",
     "output_type": "stream",
     "text": [
      "{'Magic of Thinking Big': 'David Schwartz', 'Atomic Habits': 'James Clear', 'Think and Grow Rich': 'Napoleon Hill', 'The Secret': 'Rhonda Byrne', 'The Psychology of Money': 'Morgan Housel', 'Ikigai': 'Héctor García and Francesc Miralles'}\n",
      "\n",
      "                        Generate a summary of the book Magic of Thinking Big by David Schwartz with the following format:\n",
      "                                    *Book Name* by *Author Name*\n",
      "\n",
      "                                    *Overview*\n",
      "                                    Provide a brief overview of the book's content and main themes.\n",
      "\n",
      "                                    *Principal Insights*\n",
      "                                    1. Key Insight 1\n",
      "                                    2. Key Insight 2\n",
      "                                    3. Key Insight 3\n",
      "                                    4. Key Insight 4\n",
      "                                    5. Key Insight 5\n",
      "                                    6. Key Insight 6\n",
      "                                    7. Key Insight 7\n",
      "\n",
      "                                    *Application in Practical Life*\n",
      "                                    - Application Point 1\n",
      "                                    - Application Point 2\n",
      "                                    - Application Point 3\n",
      "                                    - Application Point 4\n",
      "                                    - Application Point 5\n",
      "\n",
      "                                    *Related Readings*\n",
      "                                    - _Related Book 1_ and brief description\n",
      "                                    - _Related Book 2_ and brief description\n",
      "                                    - _Related Book 3_ and brief description\n",
      "                                    - _Related Book 4_ and brief description\n",
      "\n",
      "                                    *Final Thoughts*\n",
      "                                    _Provide concluding thoughts on the book._\n",
      "\n",
      "                                    Include the formatting symbols as specified in the format. Ensure the final thoughts content starts and ends with a underscore symbol. Enusre to use a single asterisk (*) for highlighting the subheadings and other keywords instead of ##. Give the summary with specified format as a python string\n",
      "                                    Don't use double asterisks, use only single asterisks for highlighting the text\n",
      "                                    \n",
      "                                    \n"
     ]
    }
   ],
   "source": [
    "chat_template = chat_template_creation(book_names, authors)\n",
    "for message in chat_template: \n",
    "    print(message[0].get(\"content\"))"
   ]
  },
  {
   "cell_type": "code",
   "execution_count": 3,
   "metadata": {},
   "outputs": [
    {
     "name": "stdout",
     "output_type": "stream",
     "text": [
      "summary_generation: \n",
      "                        Generate a summary of the book Magic of Thinking Big by David Schwartz with the following format:\n",
      "                                    *Book Name* by *Author Name*\n",
      "\n",
      "                                    *Overview*\n",
      "                                    Provide a brief overview of the book's content and main themes.\n",
      "\n",
      "                                    *Principal Insights*\n",
      "                                    1. Key Insight 1\n",
      "                                    2. Key Insight 2\n",
      "                                    3. Key Insight 3\n",
      "                                    4. Key Insight 4\n",
      "                                    5. Key Insight 5\n",
      "                                    6. Key Insight 6\n",
      "                                    7. Key Insight 7\n",
      "\n",
      "                                    *Application in Practical Life*\n",
      "                                    - Application Point 1\n",
      "                                    - Application Point 2\n",
      "                                    - Application Point 3\n",
      "                                    - Application Point 4\n",
      "                                    - Application Point 5\n",
      "\n",
      "                                    *Related Readings*\n",
      "                                    - _Related Book 1_ and brief description\n",
      "                                    - _Related Book 2_ and brief description\n",
      "                                    - _Related Book 3_ and brief description\n",
      "                                    - _Related Book 4_ and brief description\n",
      "\n",
      "                                    *Final Thoughts*\n",
      "                                    _Provide concluding thoughts on the book._\n",
      "\n",
      "                                    Include the formatting symbols as specified in the format. Ensure the final thoughts content starts and ends with a underscore symbol. Enusre to use a single asterisk (*) for highlighting the subheadings and other keywords instead of ##. Give the summary with specified format as a python string\n",
      "                                    Don't use double asterisks, use only single asterisks for highlighting the text\n",
      "                                    \n",
      "                                    \n",
      "\"*The Magic of Thinking Big* by David Schwartz\"\n",
      "\n",
      "*Overview*\n",
      "This book emphasizes the importance of a positive mindset and thinking beyond one's current circumstances to achieve success. The book provides practical advice on how to develop a growth mindset, overcome negative thoughts, and take action towards achieving one's goals.\n",
      "\n",
      "*Principal Insights*\n",
      "1. Believe in yourself and your abilities to achieve great things.\n",
      "2. Cultivate a positive attitude and avoid negative thinking.\n",
      "3. Set high goals and have a clear vision for your future.\n",
      "4. Take action and overcome fear of failure.\n",
      "5. Continuously learn and improve yourself.\n",
      "6. Develop your communication and leadership skills.\n",
      "7. Surround yourself with positive and supportive people.\n",
      "\n",
      "*Application in Practical Life*\n",
      "- Develop a growth mindset by focusing on learning and improvement.\n",
      "- Practice positive self-talk and avoid negative self-criticism.\n",
      "- Set specific, measurable, achievable, relevant, and time-bound (SMART) goals.\n",
      "- Take calculated risks and learn from failures.\n",
      "- Seek out learning opportunities, such as classes, workshops, and books.\n",
      "- Practice active listening and effective communication.\n",
      "- Build a network of supportive and like-minded individuals.\n",
      "\n",
      "*Related Readings*\n",
      "- *\"Think and Grow Rich\"* by Napoleon Hill: A classic self-help book that focuses on the power of positive thinking and visualization in achieving success.\n",
      "- *\"Mindset: The New Psychology of Success\"* by Carol Dweck: A book that explores the concept of growth mindset and how it can be applied to various aspects of life.\n",
      "- *\"How to Win Friends and Influence People\"* by Dale Carnegie: A classic book on communication and interpersonal skills that provides practical advice on how to build positive relationships.\n",
      "- *\"The Power of Now\"* by Eckhart Tolle: A book that emphasizes the importance of living in the present moment and letting go of negative thoughts and emotions.\n",
      "\n",
      "*Final Thoughts*\n",
      "_\"The Magic of Thinking Big\"_ is a powerful and inspiring book that encourages readers to think beyond their current limitations and take action towards achieving their goals. By cultivating a positive mindset, setting high goals, and taking consistent action, readers can unlock their full potential and achieve great things.\n"
     ]
    }
   ],
   "source": [
    "summary = summary_generation(message)\n",
    "summary_generated.append(summary)"
   ]
  },
  {
   "cell_type": "code",
   "execution_count": 4,
   "metadata": {},
   "outputs": [
    {
     "data": {
      "text/plain": [
       "['\"*The Magic of Thinking Big* by David Schwartz\"\\n\\n*Overview*\\nThis book emphasizes the importance of a positive mindset and thinking beyond one\\'s current circumstances to achieve success. The book provides practical advice on how to develop a growth mindset, overcome negative thoughts, and take action towards achieving one\\'s goals.\\n\\n*Principal Insights*\\n1. Believe in yourself and your abilities to achieve great things.\\n2. Cultivate a positive attitude and avoid negative thinking.\\n3. Set high goals and have a clear vision for your future.\\n4. Take action and overcome fear of failure.\\n5. Continuously learn and improve yourself.\\n6. Develop your communication and leadership skills.\\n7. Surround yourself with positive and supportive people.\\n\\n*Application in Practical Life*\\n- Develop a growth mindset by focusing on learning and improvement.\\n- Practice positive self-talk and avoid negative self-criticism.\\n- Set specific, measurable, achievable, relevant, and time-bound (SMART) goals.\\n- Take calculated risks and learn from failures.\\n- Seek out learning opportunities, such as classes, workshops, and books.\\n- Practice active listening and effective communication.\\n- Build a network of supportive and like-minded individuals.\\n\\n*Related Readings*\\n- *\"Think and Grow Rich\"* by Napoleon Hill: A classic self-help book that focuses on the power of positive thinking and visualization in achieving success.\\n- *\"Mindset: The New Psychology of Success\"* by Carol Dweck: A book that explores the concept of growth mindset and how it can be applied to various aspects of life.\\n- *\"How to Win Friends and Influence People\"* by Dale Carnegie: A classic book on communication and interpersonal skills that provides practical advice on how to build positive relationships.\\n- *\"The Power of Now\"* by Eckhart Tolle: A book that emphasizes the importance of living in the present moment and letting go of negative thoughts and emotions.\\n\\n*Final Thoughts*\\n_\"The Magic of Thinking Big\"_ is a powerful and inspiring book that encourages readers to think beyond their current limitations and take action towards achieving their goals. By cultivating a positive mindset, setting high goals, and taking consistent action, readers can unlock their full potential and achieve great things.']"
      ]
     },
     "execution_count": 4,
     "metadata": {},
     "output_type": "execute_result"
    }
   ],
   "source": [
    "summary_generated"
   ]
  },
  {
   "cell_type": "code",
   "execution_count": 5,
   "metadata": {},
   "outputs": [
    {
     "data": {
      "text/plain": [
       "1"
      ]
     },
     "execution_count": 5,
     "metadata": {},
     "output_type": "execute_result"
    }
   ],
   "source": [
    "len(summary_generated)"
   ]
  },
  {
   "cell_type": "code",
   "execution_count": 24,
   "metadata": {},
   "outputs": [
    {
     "data": {
      "text/plain": [
       "'\"*The Magic of Thinking Big* by David Schwartz\\n\\n*Overview*\\nThis book emphasizes the importance of a positive mindset and thinking beyond one\\'s current circumstances to achieve success. Schwartz argues that success is largely dependent on one\\'s attitude and beliefs, rather than external factors.\\n\\n*Principal Insights*\\n1. Believe you can succeed, and you will.\\n2. Cultivate a positive attitude and avoid negative thinking.\\n3. Set high goals and have a clear vision for your future.\\n4. Think big, and don\\'t be afraid to take calculated risks.\\n5. Don\\'t make excuses, and take responsibility for your actions.\\n6. Continuously learn and improve yourself.\\n7. Surround yourself with positive and supportive people.\\n\\n*Application in Practical Life*\\n- Adopt a growth mindset and believe in your potential.\\n- Practice positive self-talk and avoid negative self-criticism.\\n- Set specific, measurable, achievable, relevant, and time-bound (SMART) goals.\\n- Take action towards your goals, even if they seem daunting.\\n- Seek out learning opportunities and continuously improve your skills.\\n- Build a supportive network of friends, family, and mentors.\\n\\n*Related Readings*\\n- *Think and Grow Rich* by Napoleon Hill: This classic self-help book emphasizes the power of positive thinking and visualization in achieving success.\\n- *Mindset: The New Psychology of Success* by Carol Dweck: This book explores the concept of growth mindset and how it can help individuals achieve their full potential.\\n- *The Power of Now* by Eckhart Tolle: This book emphasizes the importance of living in the present moment and letting go of negative thoughts and emotions.\\n- *The 7 Habits of Highly Effective People* by Stephen Covey: This book provides practical advice on how to develop habits that lead to success and fulfillment.\\n\\n*Final Thoughts*\\n`The Magic of Thinking Big` is a powerful reminder that our mindset and attitude play a significant role in determining our success. By adopting a positive and growth-oriented mindset, we can overcome obstacles, achieve our goals, and live fulfilling lives. Remember, \"the size of your success is determined by the size of your belief.\"`'"
      ]
     },
     "execution_count": 24,
     "metadata": {},
     "output_type": "execute_result"
    }
   ],
   "source": [
    "summary"
   ]
  },
  {
   "cell_type": "code",
   "execution_count": 39,
   "metadata": {},
   "outputs": [
    {
     "data": {
      "text/plain": [
       "'\"*The Magic of Thinking Big* by David Schwartz\\n\\n*Overview*\\nThis book emphasizes the importance of a positive mindset and thinking beyond one\\'s current circumstances to achieve success. Schwartz argues that success is largely dependent on one\\'s attitude and beliefs, rather than external factors.\\n\\n*Principal Insights*\\n1. Believe you can succeed, and you will.\\n2. Cultivate a positive attitude and avoid negative thinking.\\n3. Set high goals and have a clear vision for your future.\\n4. Think big, and don\\'t be afraid to take calculated risks.\\n5. Don\\'t make excuses, and take responsibility for your actions.\\n6. Continuously learn and improve yourself.\\n7. Surround yourself with positive and supportive people.\\n\\n*Application in Practical Life*\\n- Adopt a growth mindset and believe in your potential.\\n- Practice positive self-talk and avoid negative self-criticism.\\n- Set specific, measurable, achievable, relevant, and time-bound (SMART) goals.\\n- Take action towards your goals, even if they seem daunting.\\n- Seek out learning opportunities and continuously improve your skills.\\n- Build a supportive network of friends, family, and mentors.\\n\\n*Related Readings*\\n- *Think and Grow Rich* by Napoleon Hill: This classic self-help book emphasizes the power of positive thinking and visualization in achieving success.\\n- *Mindset: The New Psychology of Success* by Carol Dweck: This book explores the concept of growth mindset and how it can help individuals achieve their full potential.\\n- *The Power of Now* by Eckhart Tolle: This book emphasizes the importance of living in the present moment and letting go of negative thoughts and emotions.\\n- *The 7 Habits of Highly Effective People* by Stephen Covey: This book provides practical advice on how to develop habits that lead to success and fulfillment.\\n\\n*Final Thoughts*\\n`The Magic of Thinking Big` is a powerful reminder that our mindset and attitude play a significant role in determining our success. By adopting a positive and growth-oriented mindset, we can overcome obstacles, achieve our goals, and live fulfilling lives. Remember, \"the size of your success is determined by the size of your belief.\"`'"
      ]
     },
     "execution_count": 39,
     "metadata": {},
     "output_type": "execute_result"
    }
   ],
   "source": [
    "summary_generated[0]"
   ]
  },
  {
   "cell_type": "code",
   "execution_count": 6,
   "metadata": {},
   "outputs": [
    {
     "name": "stdout",
     "output_type": "stream",
     "text": [
      "{'ok': True, 'result': {'message_id': 29, 'sender_chat': {'id': -1002177083700, 'title': 'Book Bites', 'type': 'channel'}, 'chat': {'id': -1002177083700, 'title': 'Book Bites', 'type': 'channel'}, 'date': 1723891916, 'text': '\"The Magic of Thinking Big by David Schwartz\"\\n\\nOverview\\nThis book emphasizes the importance of a positive mindset and thinking beyond one\\'s current circumstances to achieve success. The book provides practical advice on how to develop a growth mindset, overcome negative thoughts, and take action towards achieving one\\'s goals.\\n\\nPrincipal Insights\\n1. Believe in yourself and your abilities to achieve great things.\\n2. Cultivate a positive attitude and avoid negative thinking.\\n3. Set high goals and have a clear vision for your future.\\n4. Take action and overcome fear of failure.\\n5. Continuously learn and improve yourself.\\n6. Develop your communication and leadership skills.\\n7. Surround yourself with positive and supportive people.\\n\\nApplication in Practical Life\\n- Develop a growth mindset by focusing on learning and improvement.\\n- Practice positive self-talk and avoid negative self-criticism.\\n- Set specific, measurable, achievable, relevant, and time-bound (SMART) goals.\\n- Take calculated risks and learn from failures.\\n- Seek out learning opportunities, such as classes, workshops, and books.\\n- Practice active listening and effective communication.\\n- Build a network of supportive and like-minded individuals.\\n\\nRelated Readings\\n- \"Think and Grow Rich\" by Napoleon Hill: A classic self-help book that focuses on the power of positive thinking and visualization in achieving success.\\n- \"Mindset: The New Psychology of Success\" by Carol Dweck: A book that explores the concept of growth mindset and how it can be applied to various aspects of life.\\n- \"How to Win Friends and Influence People\" by Dale Carnegie: A classic book on communication and interpersonal skills that provides practical advice on how to build positive relationships.\\n- \"The Power of Now\" by Eckhart Tolle: A book that emphasizes the importance of living in the present moment and letting go of negative thoughts and emotions.\\n\\nFinal Thoughts\\n\"The Magic of Thinking Big\" is a powerful and inspiring book that encourages readers to think beyond their current limitations and take action towards achieving their goals. By cultivating a positive mindset, setting high goals, and taking consistent action, readers can unlock their full potential and achieve great things.', 'entities': [{'offset': 1, 'length': 25, 'type': 'bold'}, {'offset': 47, 'length': 8, 'type': 'bold'}, {'offset': 329, 'length': 18, 'type': 'bold'}, {'offset': 737, 'length': 29, 'type': 'bold'}, {'offset': 1222, 'length': 16, 'type': 'bold'}, {'offset': 1241, 'length': 21, 'type': 'bold'}, {'offset': 1395, 'length': 40, 'type': 'bold'}, {'offset': 1559, 'length': 41, 'type': 'bold'}, {'offset': 1749, 'length': 18, 'type': 'bold'}, {'offset': 1907, 'length': 14, 'type': 'bold'}, {'offset': 1922, 'length': 27, 'type': 'italic'}]}}\n"
     ]
    }
   ],
   "source": [
    "summary = summary_generated[0]\n",
    "\n",
    "tg_response = send_message(TOKEN, CHANNEL_ID, summary)\n",
    "print(tg_response)"
   ]
  }
 ],
 "metadata": {
  "kernelspec": {
   "display_name": "Python 3",
   "language": "python",
   "name": "python3"
  },
  "language_info": {
   "codemirror_mode": {
    "name": "ipython",
    "version": 3
   },
   "file_extension": ".py",
   "mimetype": "text/x-python",
   "name": "python",
   "nbconvert_exporter": "python",
   "pygments_lexer": "ipython3",
   "version": "3.11.2"
  }
 },
 "nbformat": 4,
 "nbformat_minor": 2
}
