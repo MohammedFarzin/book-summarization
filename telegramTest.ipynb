{
 "cells": [
  {
   "cell_type": "code",
   "execution_count": 13,
   "metadata": {},
   "outputs": [
    {
     "name": "stdout",
     "output_type": "stream",
     "text": [
      "Status Code: 200\n",
      "Response JSON:\n",
      "{'telegram_response': {'ok': True, 'result': {'message_id': 36, 'sender_chat': {'id': -1002177083700, 'title': 'Book Bites', 'type': 'channel'}, 'chat': {'id': -1002177083700, 'title': 'Book Bites', 'type': 'channel'}, 'date': 1724022056, 'text': '\"Sapiens by Yuval Noah Harari\"\\n\\nOverview\\nSapiens is a thought-provoking and ambitious exploration of the history of the human species, from the emergence of Homo sapiens in Africa to the present day. Harari weaves together insights from biology, anthropology, economics, and more to tell a compelling story of how humans came to dominate the planet and how our societies have evolved over time.\\n\\nPrincipal Insights\\n\\n1. The cognitive revolution: Around 70,000 years ago, Homo sapiens underwent a cognitive revolution that enabled us to develop language, create myths, and form complex societies.\\n2. The agricultural revolution: The invention of agriculture around 12,000 years ago allowed humans to settle in one place, leading to the development of cities, states, and civilizations.\\n3. The scientific revolution: The scientific revolution of the past few centuries has given humans unprecedented power to understand and manipulate the world around us.\\n4. The industrial revolution: The industrial revolution has transformed the way we live and work, enabling us to produce vast amounts of goods and services, but also leading to new forms of inequality and environmental degradation.\\n5. The information revolution: The information revolution has given us access to vast amounts of information and has transformed the way we communicate and interact with each other.\\n6. The future of homo sapiens: Harari explores the future of Homo sapiens, including the potential for genetic engineering, artificial intelligence, and the impact of these technologies on our societies.\\n7. The role of myths and stories: Harari argues that myths and stories have played a crucial role in the development of human societies, enabling us to cooperate in large groups and to create complex institutions.\\n\\nApplication in Practical Life\\n\\n- Understanding the past can help us make sense of the present and plan for the future.\\n- Recognizing the role of myths and stories in shaping our societies can help us critically evaluate our own beliefs and values.\\n- Understanding the impact of the agricultural, scientific, industrial, and information revolutions can help us make informed decisions about how to live our lives and organize our societies.\\n- Thinking about the future of Homo sapiens can help us anticipate and prepare for the challenges and opportunities that lie ahead.\\n\\nRelated Readings\\n\\n- Guns, Germs, and Steel by Jared Diamond: A classic exploration of how geography and technology have shaped the course of human history.\\n- Homo Deus by Yuval Noah Harari: A provocative look at the future of Homo sapiens and the impact of technology on our societies.\\n- The Better Angels of Our Nature by Steven Pinker: A sweeping history of violence and its decline in human societies.\\n- Thinking, Fast and Slow by Daniel Kahneman: A groundbreaking exploration of the two systems that drive the way we think and make decisions.\\n\\nFinal Thoughts\\nSapiens is a fascinating and thought-provoking book that challenges readers to think critically about the history of the human species and the direction we are headed. Harari\\'s insights and arguments are sure to spark lively debates and inspire further exploration of these important topics.', 'entities': [{'offset': 1, 'length': 7, 'type': 'bold'}, {'offset': 32, 'length': 8, 'type': 'bold'}, {'offset': 396, 'length': 18, 'type': 'bold'}, {'offset': 1786, 'length': 29, 'type': 'bold'}, {'offset': 2359, 'length': 16, 'type': 'bold'}, {'offset': 2379, 'length': 22, 'type': 'bold'}, {'offset': 2517, 'length': 9, 'type': 'bold'}, {'offset': 2647, 'length': 31, 'type': 'bold'}, {'offset': 2766, 'length': 23, 'type': 'bold'}, {'offset': 2907, 'length': 14, 'type': 'bold'}, {'offset': 2922, 'length': 291, 'type': 'italic'}]}}}\n"
     ]
    }
   ],
   "source": [
    "import requests\n",
    "\n",
    "# Define the URL of the FastAPI endpoint\n",
    "url = \"http://127.0.0.1:8000/generate_summary/\"\n",
    "\n",
    "# Define the payload to be sent in the POST request\n",
    "payload = {\n",
    "    \"book_name\": \"Sapiens by Yuval Noah Harari\"\n",
    "}\n",
    "\n",
    "# Set the headers (if required)\n",
    "headers = {\n",
    "    \"Content-Type\": \"application/json\"\n",
    "}\n",
    "\n",
    "# Send the POST request\n",
    "response = requests.post(url, json=payload, headers=headers)\n",
    "\n",
    "# Print the response status code and JSON response\n",
    "print(f\"Status Code: {response.status_code}\")\n",
    "print(\"Response JSON:\")\n",
    "print(response.json())"
   ]
  }
 ],
 "metadata": {
  "kernelspec": {
   "display_name": "Python 3",
   "language": "python",
   "name": "python3"
  },
  "language_info": {
   "codemirror_mode": {
    "name": "ipython",
    "version": 3
   },
   "file_extension": ".py",
   "mimetype": "text/x-python",
   "name": "python",
   "nbconvert_exporter": "python",
   "pygments_lexer": "ipython3",
   "version": "3.11.2"
  }
 },
 "nbformat": 4,
 "nbformat_minor": 2
}
